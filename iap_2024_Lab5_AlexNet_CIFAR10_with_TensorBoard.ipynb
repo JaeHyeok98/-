{
  "nbformat": 4,
  "nbformat_minor": 0,
  "metadata": {
    "colab": {
      "provenance": [],
      "gpuType": "T4",
      "collapsed_sections": [
        "JmYtuGMYSrzY",
        "44ybN4WpSzFr",
        "_zwz4h8xUICi",
        "pDLPnISkTn-Z",
        "geLtwH-STrkk"
      ],
      "include_colab_link": true
    },
    "kernelspec": {
      "name": "python3",
      "display_name": "Python 3"
    },
    "language_info": {
      "name": "python"
    },
    "accelerator": "GPU"
  },
  "cells": [
    {
      "cell_type": "markdown",
      "metadata": {
        "id": "view-in-github",
        "colab_type": "text"
      },
      "source": [
        "<a href=\"https://colab.research.google.com/github/JaeHyeok98/-/blob/main/iap_2024_Lab5_AlexNet_CIFAR10_with_TensorBoard.ipynb\" target=\"_parent\"><img src=\"https://colab.research.google.com/assets/colab-badge.svg\" alt=\"Open In Colab\"/></a>"
      ]
    },
    {
      "cell_type": "code",
      "source": [
        "import torch\n",
        "import torchvision\n",
        "import numpy as np\n",
        "import time"
      ],
      "metadata": {
        "id": "7pxikm5X8Md-"
      },
      "execution_count": null,
      "outputs": []
    },
    {
      "cell_type": "markdown",
      "source": [
        "# Load Model"
      ],
      "metadata": {
        "id": "JmYtuGMYSrzY"
      }
    },
    {
      "cell_type": "code",
      "source": [
        "# Load the AlexNet model\n",
        "MyModel = torchvision.models.alexnet() # try 'torchvision.models.resnet18()' and 'torchvision.models.mobilenet_v2()'\n",
        "\n",
        "# Show network structure\n",
        "print(MyModel)"
      ],
      "metadata": {
        "id": "y0yS-ywRgl-h"
      },
      "execution_count": null,
      "outputs": []
    },
    {
      "cell_type": "code",
      "source": [
        "# Modify output feature dimension of the last FC layer (10 classes in CIFAR-10 dataset)\n",
        "num_ftrs = MyModel.classifier[6].in_features\n",
        "MyModel.classifier[6] = torch.nn.Linear(num_ftrs, 10)"
      ],
      "metadata": {
        "id": "wgY_Ta0WjTei"
      },
      "execution_count": null,
      "outputs": []
    },
    {
      "cell_type": "code",
      "source": [
        "# Set the device on which the model is to run\n",
        "MyDevice = torch.device('cuda' if torch.cuda.is_available() else 'cpu')\n",
        "\n",
        "# Move tensors and models to a specified device\n",
        "MyModel.to(MyDevice)"
      ],
      "metadata": {
        "id": "Bf7U5JSFjD1-"
      },
      "execution_count": null,
      "outputs": []
    },
    {
      "cell_type": "markdown",
      "source": [
        "# Load Dataset"
      ],
      "metadata": {
        "id": "44ybN4WpSzFr"
      }
    },
    {
      "cell_type": "code",
      "source": [
        "# Define the data transformation pipeline\n",
        "MyTransform = torchvision.transforms.Compose([torchvision.transforms.Resize(224),\n",
        "                                              torchvision.transforms.RandomHorizontalFlip(),\n",
        "                                              torchvision.transforms.ToTensor(),\n",
        "                                              torchvision.transforms.Normalize((0.5, 0.5, 0.5), (0.5, 0.5, 0.5))])"
      ],
      "metadata": {
        "id": "gfiDKKBKBQIq"
      },
      "execution_count": null,
      "outputs": []
    },
    {
      "cell_type": "code",
      "execution_count": null,
      "metadata": {
        "id": "tnKhnsVVb2qf"
      },
      "outputs": [],
      "source": [
        "# Load the CIFAR-10 dataset\n",
        "CIFAR10_TrainSet = torchvision.datasets.CIFAR10(root='./data',\n",
        "                                                train=True,\n",
        "                                                download=True,\n",
        "                                                transform=MyTransform)\n",
        "CIFAR10_TestSet = torchvision.datasets.CIFAR10(root='./data',\n",
        "                                               train=False,\n",
        "                                               download=True,\n",
        "                                               transform=MyTransform)"
      ]
    },
    {
      "cell_type": "code",
      "source": [
        "# Generate a list of indices ranging from 0 to 49999\n",
        "indices = list(range(50000))\n",
        "\n",
        "# Shuffle the list of indices randomly\n",
        "shuffled_indices = np.random.permutation(indices)"
      ],
      "metadata": {
        "id": "aggj9iu6tJkn"
      },
      "execution_count": null,
      "outputs": []
    },
    {
      "cell_type": "code",
      "source": [
        "# Create a validation set by selecting a subset of samples from the CIFAR10_TrainSet\n",
        "CIFAR10_ValSet = torch.utils.data.Subset(CIFAR10_TrainSet, shuffled_indices[0:5000])\n",
        "\n",
        "# Update the CIFAR10_TrainSet to exclude the samples used for validation\n",
        "CIFAR10_TrainSet = torch.utils.data.Subset(CIFAR10_TrainSet, shuffled_indices[5000:50000])"
      ],
      "metadata": {
        "id": "eN2Hrtr2J7Q9"
      },
      "execution_count": null,
      "outputs": []
    },
    {
      "cell_type": "markdown",
      "source": [
        "# Prepare for training"
      ],
      "metadata": {
        "id": "_zwz4h8xUICi"
      }
    },
    {
      "cell_type": "code",
      "source": [
        "# Define the hyperparameters\n",
        "lr = 0.001\n",
        "bs = 128\n",
        "num_epochs = 5"
      ],
      "metadata": {
        "id": "Eja-21_OJnDU"
      },
      "execution_count": null,
      "outputs": []
    },
    {
      "cell_type": "code",
      "source": [
        "# Create DataLoader for training and validation sets\n",
        "CIFAR10_TrainLoader = torch.utils.data.DataLoader(dataset=CIFAR10_TrainSet,\n",
        "                                                  batch_size=bs,\n",
        "                                                  shuffle=True,\n",
        "                                                  num_workers=2)\n",
        "CIFAR10_ValLoader = torch.utils.data.DataLoader(dataset=CIFAR10_ValSet,\n",
        "                                                batch_size=bs,\n",
        "                                                shuffle=False,\n",
        "                                                num_workers=2)"
      ],
      "metadata": {
        "id": "F8JM7U25ULbS"
      },
      "execution_count": null,
      "outputs": []
    },
    {
      "cell_type": "code",
      "source": [
        "# Define Optimizer\n",
        "optimizer = torch.optim.Adam(MyModel.parameters(), lr=lr)"
      ],
      "metadata": {
        "id": "aus8r3p3ULxT"
      },
      "execution_count": null,
      "outputs": []
    },
    {
      "cell_type": "code",
      "source": [
        "# Define Loss Function\n",
        "criterion = torch.nn.CrossEntropyLoss()"
      ],
      "metadata": {
        "id": "Devpi7pbUPzN"
      },
      "execution_count": null,
      "outputs": []
    },
    {
      "cell_type": "code",
      "source": [
        "import torch.utils.tensorboard\n",
        "\n",
        "# Create an instance of the SummaryWriter class, which is used to log information for visualization in TensorBoard\n",
        "writer = torch.utils.tensorboard.SummaryWriter('runs/AlexNet_CIFAR10')\n",
        "\n",
        "# Load the TensorBoard extension, allowing you to use the %tensorboard magic command\n",
        "%load_ext tensorboard\n",
        "\n",
        "# Launche TensorBoard within the Jupyter Notebook interface\n",
        "%tensorboard --logdir runs/AlexNet_CIFAR10 --port=6006"
      ],
      "metadata": {
        "id": "A9VHEcDom0vg"
      },
      "execution_count": null,
      "outputs": []
    },
    {
      "cell_type": "markdown",
      "source": [
        "# Train"
      ],
      "metadata": {
        "id": "pDLPnISkTn-Z"
      }
    },
    {
      "cell_type": "code",
      "source": [
        "# Define the 'train' function\n",
        "def train(model, device, train_set, train_loader, optimizer, criterion, writer, epoch):\n",
        "\n",
        "    model.train()\n",
        "\n",
        "    total_loss = 0\n",
        "    num_total_preds = 0\n",
        "    num_total_correct_preds = 0\n",
        "\n",
        "    train_size = len(train_set)\n",
        "    num_iterations_per_epoch = int((train_size + (bs - 1)) / bs)\n",
        "\n",
        "    for batch_idx, (data, target_label) in enumerate(train_loader):\n",
        "\n",
        "        data, target_label = data.to(device), target_label.to(device)\n",
        "\n",
        "        predicted_scores = model(data)\n",
        "\n",
        "        loss = criterion(predicted_scores, target_label)\n",
        "        loss.backward()\n",
        "        optimizer.step()\n",
        "        optimizer.zero_grad()\n",
        "\n",
        "        num_preds = target_label.size(0)\n",
        "\n",
        "        _, predicted_label = predicted_scores.max(1)\n",
        "\n",
        "        num_correct_preds = predicted_label.eq(target_label).sum().item()\n",
        "\n",
        "        print(f\"\\ttrain  |  batch: {batch_idx + 1:>3}  |  num_preds: {num_preds:>3}  |  num_correct_preds: {num_correct_preds:>3}  |  batch_accuracy: {(num_correct_preds / num_preds) * 100:>4.1f}\")\n",
        "\n",
        "        total_loss += loss.item() * num_preds\n",
        "        num_total_preds += num_preds\n",
        "        num_total_correct_preds += num_correct_preds\n",
        "\n",
        "        # Log the epoch training results on tensorboard\n",
        "        iteration = epoch * num_iterations_per_epoch + (batch_idx + 1)\n",
        "        writer.add_scalar('Training Loss', loss.item(), iteration)\n",
        "        writer.add_scalar('Training Acc', (num_correct_preds / num_preds) * 100, iteration)\n",
        "\n",
        "    training_loss = total_loss / num_total_preds\n",
        "    training_accuracy = (num_total_correct_preds / num_total_preds) * 100\n",
        "\n",
        "    print(f\"\\tTraining Loss: {training_loss:.3f}\")\n",
        "    print(f\"\\tTraining Accuracy: {training_accuracy:.1f}\")"
      ],
      "metadata": {
        "id": "bZaR4tBSpM94"
      },
      "execution_count": null,
      "outputs": []
    },
    {
      "cell_type": "code",
      "source": [
        "# Define the 'val' function\n",
        "def val(model, device, val_loader, criterion):\n",
        "\n",
        "    model.eval()\n",
        "\n",
        "    total_loss = 0\n",
        "    num_total_preds = 0\n",
        "    num_total_correct_preds = 0\n",
        "\n",
        "    with torch.no_grad():\n",
        "\n",
        "        for batch_idx, (data, target_label) in enumerate(val_loader):\n",
        "\n",
        "            data, target_label = data.to(device), target_label.to(device)\n",
        "\n",
        "            predicted_scores = model(data)\n",
        "\n",
        "            loss = criterion(predicted_scores, target_label)\n",
        "\n",
        "            num_preds = target_label.size(0)\n",
        "\n",
        "            _, predicted_label= predicted_scores.max(1)\n",
        "            num_correct_preds = predicted_label.eq(target_label).sum().item()\n",
        "\n",
        "            total_loss += loss.item() * num_preds\n",
        "            num_total_preds += num_preds\n",
        "            num_total_correct_preds += num_correct_preds\n",
        "\n",
        "        val_loss = total_loss / num_total_preds\n",
        "        val_accuracy = (num_total_correct_preds / num_total_preds) * 100\n",
        "\n",
        "        print(f\"\\tVal Loss: {val_loss:.3f}\")\n",
        "        print(f\"\\tVal Accuracy: {val_accuracy:.1f}\")"
      ],
      "metadata": {
        "id": "1F6g7zF0DcRN"
      },
      "execution_count": null,
      "outputs": []
    },
    {
      "cell_type": "code",
      "source": [
        "# Train the model\n",
        "for epoch in range(num_epochs):\n",
        "\n",
        "    print('Epoch:', epoch + 1)\n",
        "\n",
        "    start = time.time()\n",
        "\n",
        "    train(model=MyModel,\n",
        "          device=MyDevice,\n",
        "          train_set=CIFAR10_TrainSet,\n",
        "          train_loader=CIFAR10_TrainLoader,\n",
        "          optimizer=optimizer,\n",
        "          criterion=criterion,\n",
        "          writer=writer,\n",
        "          epoch=epoch)\n",
        "\n",
        "    val(model=MyModel,\n",
        "        device=MyDevice,\n",
        "        val_loader=CIFAR10_ValLoader,\n",
        "        criterion=criterion)\n",
        "\n",
        "    end = time.time()\n",
        "\n",
        "    print(f\"\\tTime spent training this epoch: {int(end - start)} sec\\n\")\n",
        "\n",
        "print('Training End!')"
      ],
      "metadata": {
        "id": "jHGJ75xnL7w7"
      },
      "execution_count": null,
      "outputs": []
    },
    {
      "cell_type": "markdown",
      "source": [
        "# Evaluate"
      ],
      "metadata": {
        "id": "geLtwH-STrkk"
      }
    },
    {
      "cell_type": "code",
      "source": [
        "# Create DataLoader test set\n",
        "CIFAR10_TestLoader = torch.utils.data.DataLoader(dataset=CIFAR10_TestSet,\n",
        "                                                 batch_size=bs,\n",
        "                                                 shuffle=False,\n",
        "                                                 num_workers=2)"
      ],
      "metadata": {
        "id": "pqVM5ZjrUxzC"
      },
      "execution_count": null,
      "outputs": []
    },
    {
      "cell_type": "code",
      "source": [
        "# Define the 'test' function\n",
        "def test(model, device, test_loader):\n",
        "\n",
        "    model.eval()\n",
        "\n",
        "    num_total_preds = 0\n",
        "    num_total_correct_preds = 0\n",
        "\n",
        "    with torch.no_grad():\n",
        "\n",
        "        for batch_idx, (data, target_label) in enumerate(test_loader):\n",
        "\n",
        "            data, target_label = data.to(device), target_label.to(device)\n",
        "\n",
        "            predicted_scores = model(data)\n",
        "\n",
        "            num_preds = target_label.size(0)\n",
        "\n",
        "            _, predicted_label= predicted_scores.max(1)\n",
        "            num_correct_preds = predicted_label.eq(target_label).sum().item()\n",
        "\n",
        "            num_total_preds += num_preds\n",
        "            num_total_correct_preds += num_correct_preds\n",
        "\n",
        "        test_accuracy = (num_total_correct_preds / num_total_preds) * 100\n",
        "\n",
        "        print(f\"Model Accuracy: {test_accuracy:.1f}\")"
      ],
      "metadata": {
        "id": "_muuOErcPjui"
      },
      "execution_count": null,
      "outputs": []
    },
    {
      "cell_type": "code",
      "source": [
        "# Test the model\n",
        "test(model=MyModel,\n",
        "     device=MyDevice,\n",
        "     test_loader=CIFAR10_TestLoader)"
      ],
      "metadata": {
        "id": "0fZDkaSjU3bx"
      },
      "execution_count": null,
      "outputs": []
    },
    {
      "cell_type": "code",
      "source": [
        "'''Measure FLOPs (floating-point operations) and the number of parameters\n",
        "!pip install thop\n",
        "import thop\n",
        "\n",
        "random_input = torch.randn(1, 3, 224, 224).to(MyDevice)\n",
        "FLOPS, params = thop.profile(MyModel, inputs=(random_input, ))\n",
        "\n",
        "print(f\"FLOPS: {int(FLOPS)} | params: {int(params)}\")"
      ],
      "metadata": {
        "id": "xUuYYizd_0KC"
      },
      "execution_count": null,
      "outputs": []
    }
  ]
}